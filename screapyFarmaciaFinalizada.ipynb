{
  "nbformat": 4,
  "nbformat_minor": 0,
  "metadata": {
    "colab": {
      "provenance": []
    },
    "kernelspec": {
      "name": "python3",
      "display_name": "Python 3"
    },
    "language_info": {
      "name": "python"
    }
  },
  "cells": [
    {
      "cell_type": "code",
      "execution_count": 10,
      "metadata": {
        "colab": {
          "base_uri": "https://localhost:8080/"
        },
        "id": "humG7P1q5iM_",
        "outputId": "42a2d205-d1c7-40f2-c6d5-75081e4abe90"
      },
      "outputs": [
        {
          "output_type": "stream",
          "name": "stdout",
          "text": [
            "Drive already mounted at /content/drive; to attempt to forcibly remount, call drive.mount(\"/content/drive\", force_remount=True).\n"
          ]
        }
      ],
      "source": [
        "#Codigo faz screapy das 50 primeira páginas de promoção de \"A Sua Farmácia Online\". \n",
        "#São baixados o preço e o nome.\n",
        "#O resultado é armazenado em um arquivo csv.\n",
        "\n",
        "import requests #A biblioteca requeste é utilizada para baixar as páginas html do site\n",
        "from bs4 import BeautifulSoup #As funções associadas a biblioteca BeautifulSoup serão \n",
        "#utilizadas para filtrar o preço e o nome de cada produto.\n",
        "\n",
        "#Bibliotecas necessárias para acessar arquivos do drive no colab\n",
        "import io \n",
        "from google.colab import drive \n",
        "#Biblioteca para acessar arquivos csv\n",
        "import csv\n",
        "\n",
        "drive.mount('/content/drive') #Solicitar permissão de acesso ao drive\n",
        "\n",
        "#declara variáveis utilizada na função de screapy\n",
        "urls = [0]*50 #urls das 50 páginas de promocoes\n",
        "nomes = []    #nomes dos produtos \n",
        "lista = []   #string com preços e nomes dos produtos\n",
        "precos = [] #precos dos produtos "
      ]
    },
    {
      "cell_type": "code",
      "source": [
        "#função usada para filtrar preço e nome dos produtos \n",
        "def filtragem():\n",
        "    for i in range(len(urls)):  #for percorre as 50 primeiras páginas da farmácia\n",
        "      urls[i] = f'https://www.asuafarmaciaonline.pt/promocoes-/{i+1}' #passa endereço das páginas(+1 é porque for começa em 0 e termina em 49)\n",
        "      response = requests.get(urls[i]) #requisição das páginas html\n",
        "      soup = BeautifulSoup(response.content, 'html.parser') #paginas html são passadas como parametro para a funcao BeautifulSoup\n",
        "     \n",
        "      nomes = [ #filtra nomes dos produtos com tag box-name-marca encontrada na página (por meio do F12)\n",
        "        (p.find(text=True).split(\" \")[0])\n",
        "        for p in soup.find_all('p', {'class':'box-name-marca'})\n",
        "      ]\n",
        "    \n",
        "      precos = [  #filtra preços dos produtos com tag box-name-marca encontrada na página (por meio do F12)\n",
        "        (div.find(text=True).split(\" \")[0])\n",
        "        for div in soup.find_all('div', {'class':'price-info'})\n",
        "      ]\n",
        "      for i in range(len(precos)): #troca virgula por ponto e depois converte para float o preço\n",
        "        precos[i] = str(precos[i]).replace(',','.')\n",
        "        precos[i] = float(precos[i])\n",
        "      lista.append(nomes)  #armazena resultado de cada página dos nomes em uma linha do vetor lista\n",
        "      lista.append(precos) #armazena resultado de cada página dos precos em uma linha do vetor lista \n",
        "\n",
        "\n",
        "  \n"
      ],
      "metadata": {
        "id": "gMcMRhKTBY1l"
      },
      "execution_count": 14,
      "outputs": []
    },
    {
      "cell_type": "code",
      "source": [
        "função utilizada para salvar resultados \n",
        "def salvaCsv():\n",
        "    # criar um arquivo CSV com nome de promoFarmacia.csv no meu google drive e escreve nele\n",
        "    with open('/content/drive/My Drive/Colab Notebooks/dados/promoFarmacia.csv', mode='w', newline='') as arquivo_csv:\n",
        "        writer = csv.writer(arquivo_csv)\n",
        "        for linha in lista:  #linha por linha é gravada no arquivo csv\n",
        "            writer.writerow(linha)"
      ],
      "metadata": {
        "id": "xDJ8YOL7JgRQ"
      },
      "execution_count": 15,
      "outputs": []
    },
    {
      "cell_type": "code",
      "source": [
        "#chama funções de filtragem e salvamento\n",
        "filtragem()\n",
        "salvaCsv()"
      ],
      "metadata": {
        "colab": {
          "base_uri": "https://localhost:8080/"
        },
        "id": "9SBrnpJZJrMr",
        "outputId": "272b95c4-bb4e-4055-e8c3-3ac65950b2e9"
      },
      "execution_count": 16,
      "outputs": [
        {
          "output_type": "stream",
          "name": "stderr",
          "text": [
            "<ipython-input-14-a30119b37aa2>:8: DeprecationWarning: The 'text' argument to find()-type methods is deprecated. Use 'string' instead.\n",
            "  (p.find(text=True).split(\" \")[0])\n",
            "<ipython-input-14-a30119b37aa2>:13: DeprecationWarning: The 'text' argument to find()-type methods is deprecated. Use 'string' instead.\n",
            "  (div.find(text=True).split(\" \")[0])\n"
          ]
        }
      ]
    }
  ]
}